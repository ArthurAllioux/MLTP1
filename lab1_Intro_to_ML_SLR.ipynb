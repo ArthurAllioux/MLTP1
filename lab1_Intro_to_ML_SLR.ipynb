{
  "nbformat": 4,
  "nbformat_minor": 0,
  "metadata": {
    "anaconda-cloud": {},
    "kernelspec": {
      "display_name": "Python 3",
      "language": "python",
      "name": "python3"
    },
    "language_info": {
      "codemirror_mode": {
        "name": "ipython",
        "version": 3
      },
      "file_extension": ".py",
      "mimetype": "text/x-python",
      "name": "python",
      "nbconvert_exporter": "python",
      "pygments_lexer": "ipython3",
      "version": "3.6.1"
    },
    "colab": {
      "name": "lab1_Intro_to_ML_SLR.ipynb",
      "provenance": [],
      "collapsed_sections": [],
      "include_colab_link": true
    }
  },
  "cells": [
    {
      "cell_type": "markdown",
      "metadata": {
        "id": "view-in-github",
        "colab_type": "text"
      },
      "source": [
        "<a href=\"https://colab.research.google.com/github/ArthurAllioux/MLTP1/blob/main/lab1_Intro_to_ML_SLR.ipynb\" target=\"_parent\"><img src=\"https://colab.research.google.com/assets/colab-badge.svg\" alt=\"Open In Colab\"/></a>"
      ]
    },
    {
      "cell_type": "markdown",
      "metadata": {
        "id": "eGFh78hFwXOF"
      },
      "source": [
        "<img style=\"float: left; padding-right: 10px; width: 45px\" src=\"https://upload.wikimedia.org/wikipedia/fr/b/b1/Logo_EPF.png?raw=true\"> \n",
        "\n",
        "# Introduction to Machine Learning\n",
        "**P2022: Data engineering**<br>\n",
        "\n",
        "\n",
        "## Lab 1:  Simple Linear Regression\n",
        "\n",
        "### First name: Arthur\n",
        "### Last name: ALLIOUX\n",
        "### Group: TPA\n",
        "\n",
        "\n",
        "---"
      ]
    },
    {
      "cell_type": "markdown",
      "metadata": {
        "id": "jbVRg2iCwXOK"
      },
      "source": [
        "# Table of Contents\n",
        "<ol start=\"1\">\n",
        "  <li> Array creation and reshape</li>\n",
        "  <li> Some plotting\n",
        "  <li> Simple linear regression  </li>\n",
        "  <li> Bonus: $k$-nearest neighbors</li>\n",
        "</ol>"
      ]
    },
    {
      "cell_type": "markdown",
      "metadata": {
        "id": "tMWrvErdwXOK"
      },
      "source": [
        "## Learning Goals\n",
        "\n",
        "Overall description and goal for the lab.\n",
        "\n",
        "By the end of this lab, you should be able to:\n",
        "* Understand array reshaping\n",
        "* Review how to make plots\n",
        "* Feel comfortable with simple linear regression\n",
        "\n"
      ]
    },
    {
      "cell_type": "code",
      "metadata": {
        "id": "BrKuKl_0wXOL"
      },
      "source": [
        "# import the necessary libraries\n",
        "import warnings\n",
        "warnings.filterwarnings('ignore')\n",
        "%matplotlib inline\n",
        "import numpy as np\n",
        "import scipy as sp\n",
        "import math\n",
        "import matplotlib as mpl\n",
        "import matplotlib.cm as cm\n",
        "import matplotlib.pyplot as plt\n",
        "import pandas as pd\n",
        "import time\n",
        "pd.set_option('display.width', 500)\n",
        "pd.set_option('display.max_columns', 100)\n",
        "pd.set_option('display.notebook_repr_html', True)\n",
        "import seaborn as sns"
      ],
      "execution_count": null,
      "outputs": []
    },
    {
      "cell_type": "markdown",
      "metadata": {
        "id": "WK80QVk7wXOL"
      },
      "source": [
        "## Simple Linear Regression\n",
        "Linear regression and its many extensions are a workhorse of the statistics and data science community, both in application and as a reference point for other models. Most of the major concepts in machine learning can be and often are discussed in terms of various linear regression models. Thus, this section will introduce you to building and fitting linear regression models and some of the process behind it, so that you can 1) fit models to data you encounter 2) experiment with different kinds of linear regression and observe their effects 3) see some of the technology that makes regression models work.\n",
        "\n",
        "\n",
        "### Linear regression with a toy dataset\n",
        "We first examine a toy problem, focusing our efforts on fitting a linear model to a small dataset with three observations.  Each observation consists of one predictor $x_i$ and one response $y_i$ for $i = 1, 2, 3$,\n",
        "\n",
        "\\begin{align*}\n",
        "(x , y) = \\{(x_1, y_1), (x_2, y_2), (x_3, y_3)\\}.\n",
        "\\end{align*}\n",
        "\n",
        "To be very concrete, let's set the values of the predictors and responses.\n",
        "\n",
        "\\begin{equation*}\n",
        "(x , y) = \\{(1, 2), (2, 2), (3, 4)\\}\n",
        "\\end{equation*}\n",
        "\n",
        "There is no line of the form $\\beta_0 + \\beta_1 x = y$ that passes through all three observations, since the data are not collinear. Thus our aim is to find the line that best fits these observations in the *least-squares sense*, as discussed in lecture."
      ]
    },
    {
      "cell_type": "markdown",
      "metadata": {
        "id": "ubfUbYUuwXOM"
      },
      "source": [
        "<div class=\"exercise\"><b>Exercise (10 min)</b></div>\n",
        "\n",
        "* Make two numpy arrays out of this data, x_train and y_train\n",
        "* Check the dimentions of these arrays\n",
        "* Make points into a very simple scatterplot\n",
        "* Make a better scatterplot"
      ]
    },
    {
      "cell_type": "code",
      "metadata": {
        "id": "urct4kHfwXOM",
        "colab": {
          "base_uri": "https://localhost:8080/"
        },
        "outputId": "2e526244-1365-4c45-88b0-1fa895ae745e"
      },
      "source": [
        "# TODO: Make two numpy arrays out of this data, x_train and y_train\n",
        "x_train = np.array([1,2,3])\n",
        "y_train = np.array([2,2,4])\n",
        "x_train"
      ],
      "execution_count": null,
      "outputs": [
        {
          "output_type": "execute_result",
          "data": {
            "text/plain": [
              "array([1, 2, 3])"
            ]
          },
          "metadata": {},
          "execution_count": 2
        }
      ]
    },
    {
      "cell_type": "code",
      "metadata": {
        "id": "4LAdFFQywXON",
        "colab": {
          "base_uri": "https://localhost:8080/"
        },
        "outputId": "ba9ba06c-2fac-449c-8d38-c95a9c6f3da5"
      },
      "source": [
        "# TODO: Check the dimentions of these arrays\n",
        "print(x_train.shape)\n",
        "y_train.shape\n",
        "\n"
      ],
      "execution_count": null,
      "outputs": [
        {
          "output_type": "stream",
          "name": "stdout",
          "text": [
            "(3,)\n"
          ]
        },
        {
          "output_type": "execute_result",
          "data": {
            "text/plain": [
              "(3,)"
            ]
          },
          "metadata": {},
          "execution_count": 3
        }
      ]
    },
    {
      "cell_type": "code",
      "metadata": {
        "id": "mYaqvT5vwXOP",
        "colab": {
          "base_uri": "https://localhost:8080/",
          "height": 282
        },
        "outputId": "447b5703-63c7-49d3-cb45-04580cbe5cb7"
      },
      "source": [
        "# TODO: Make a simple scatterplot\n",
        "sns.scatterplot(x_train,y_train)\n",
        "#plt.scatter(x_train,y_train)"
      ],
      "execution_count": null,
      "outputs": [
        {
          "output_type": "execute_result",
          "data": {
            "text/plain": [
              "<matplotlib.axes._subplots.AxesSubplot at 0x7feb8acf8690>"
            ]
          },
          "metadata": {},
          "execution_count": 4
        },
        {
          "output_type": "display_data",
          "data": {
            "image/png": "[encoded data removed]",
            "text/plain": [
              "<Figure size 432x288 with 1 Axes>"
            ]
          },
          "metadata": {
            "needs_background": "light"
          }
        }
      ]
    },
    {
      "cell_type": "code",
      "metadata": {
        "id": "KcTV9F_RwXOP",
        "colab": {
          "base_uri": "https://localhost:8080/",
          "height": 387
        },
        "outputId": "e0cd3025-5788-448d-933a-14f71649d7c9"
      },
      "source": [
        "def nice_scatterplot(x, y, title):\n",
        "    # font size\n",
        "    f_size = 18\n",
        "    \n",
        "    # make the figure\n",
        "    fig, ax = plt.subplots(1,1, figsize=(8,5)) # Create figure object\n",
        "\n",
        "    # set axes limits to make the scale nice\n",
        "    ax.set_xlim(np.min(x)-1, np.max(x) + 1)\n",
        "    ax.set_ylim(np.min(y)-1, np.max(y) + 1)\n",
        "\n",
        "    # adjust size of tickmarks in axes\n",
        "    ax.tick_params(labelsize = f_size)\n",
        "    \n",
        "    # remove tick labels\n",
        "    #ax.tick_params(labelbottom=False,  bottom=False)\n",
        "    \n",
        "    # adjust size of axis label\n",
        "    ax.set_xlabel(r'$x$', fontsize = f_size)\n",
        "    ax.set_ylabel(r'$y$', fontsize = f_size)\n",
        "    \n",
        "    # set figure title label\n",
        "    ax.set_title(title, fontsize = f_size)\n",
        "\n",
        "    # you may set up grid with this \n",
        "    ax.grid(True, lw=1.75, ls='--', alpha=0.15)\n",
        "\n",
        "    # make actual plot (Notice the label argument!)\n",
        "    ax.scatter(x, y, label=r'$my\\,points$')\n",
        "    ax.legend(loc='best', fontsize = f_size-4);\n",
        "    \n",
        "    return ax\n",
        "\n",
        "nice_scatterplot(x_train, y_train, 'hello nice plot')\n"
      ],
      "execution_count": null,
      "outputs": [
        {
          "output_type": "execute_result",
          "data": {
            "text/plain": [
              "<matplotlib.axes._subplots.AxesSubplot at 0x7feb8ace9dd0>"
            ]
          },
          "metadata": {},
          "execution_count": 5
        },
        {
          "output_type": "display_data",
          "data": {
            "image/png": "[encoded data removed]",
            "text/plain": [
              "<Figure size 576x360 with 1 Axes>"
            ]
          },
          "metadata": {
            "needs_background": "light"
          }
        }
      ]
    },
    {
      "cell_type": "markdown",
      "metadata": {
        "id": "H2FpbSnGwXOQ"
      },
      "source": [
        "\n",
        "#### Formulae\n",
        "Linear regression is special among the models we study beuase it can be solved explicitly. While most other models (and even some advanced versions of linear regression) must be solved itteratively, linear regression has a formula where you can simply plug in the data.\n",
        "\n",
        "For the single predictor case it is:\n",
        "    \\begin{align}\n",
        "      \\beta_1 &= \\frac{\\sum_{i=1}^n{(x_i-\\bar{x})(y_i-\\bar{y})}}{\\sum_{i=1}^n{(x_i-\\bar{x})^2}}\\\\\n",
        "      \\beta_0 &= \\bar{y} - \\beta_1\\bar{x}\\\n",
        "    \\end{align}\n",
        "    \n",
        "Where $\\bar{y}$ and $\\bar{x}$ are the mean of the y values and the mean of the x values, respectively.\n",
        "\n",
        "From the re-aranged second equation we can see that the best-fit line  passes through $(\\bar{x},\\bar{y})$, the center of mass of the data\n",
        "\n",
        "From any of the first equations, we can see that the slope of the line has to do with whether or not an x value that is above/below the center of mass is typically paired with a y value that is likewise above/below, or typically paired with one that is opposite."
      ]
    },
    {
      "cell_type": "markdown",
      "metadata": {
        "id": "eLISRnvSwXOQ"
      },
      "source": [
        "###  Building a model from scratch\n",
        "In this part, we will solve the equations for simple linear regression and find the best fit solution to our toy problem."
      ]
    },
    {
      "cell_type": "markdown",
      "metadata": {
        "id": "nu2isNy9wXOR"
      },
      "source": [
        "The snippets of code below implement the linear regression equations on the observed predictors and responses, which we'll call the training data set.  Let's walk through the code.\n",
        "\n",
        "We have to reshape our arrrays to 2D. We will see later why."
      ]
    },
    {
      "cell_type": "markdown",
      "metadata": {
        "id": "M7g8Q2dZwXOR"
      },
      "source": [
        "<div class=\"exercise\"><b>Exercise (5 min)</b></div>\n",
        "* make an array with shape (2,3)\n",
        "* reshape it to a size that you want"
      ]
    },
    {
      "cell_type": "code",
      "metadata": {
        "id": "-uFDHrhswXOR"
      },
      "source": [
        "# TODO: Reshape example\n",
        "#dummy_array = \n",
        "#dummy_array_reshaped =\n",
        "#dummy_array_reshaped.shape"
      ],
      "execution_count": null,
      "outputs": []
    },
    {
      "cell_type": "code",
      "metadata": {
        "id": "nfKCZIhEwXOR",
        "colab": {
          "base_uri": "https://localhost:8080/"
        },
        "outputId": "6b518abd-dbb9-47b7-c347-aaacdef54ed2"
      },
      "source": [
        "# TODO: Reshape x_train and y_train to be a proper 2D array\n",
        "x_train = x_train.reshape(3,1)\n",
        "y_train = y_train.reshape(3,1)\n",
        "#This is equavalent to doing this\n",
        "    #x_train = np.array([[1],[2],[3]])\n",
        "    #y_train = np.array([[2],[2],[4]])\n",
        "x_train"
      ],
      "execution_count": null,
      "outputs": [
        {
          "output_type": "execute_result",
          "data": {
            "text/plain": [
              "array([[1],\n",
              "       [2],\n",
              "       [3]])"
            ]
          },
          "metadata": {},
          "execution_count": 7
        }
      ]
    },
    {
      "cell_type": "code",
      "metadata": {
        "id": "GoPFhy2awXOS",
        "colab": {
          "base_uri": "https://localhost:8080/"
        },
        "outputId": "7561ba70-e4ff-4ba9-c2a3-f8d8819efeaf"
      },
      "source": [
        "# TODO: first, compute means y_bar and x_bar\n",
        "x_bar=np.mean(x_train)\n",
        "y_bar=np.mean(y_train)\n",
        "# TODO: build the two terms numerator and denominator from the formula above\n",
        "num= np.sum((x_train - x_bar)*(y_train - y_bar))\n",
        "denom=np.sum((x_train - x_bar)*(x_train - x_bar))\n",
        "print(num)\n",
        "print(denom)\n",
        "print(num.shape)\n",
        "print(denom.shape)\n",
        "#for i in range(0,len(x_train)):\n",
        "  #B1num = B1num + (x_train[i] - x_bar)*(y_train[i] - y_bar)\n",
        "  #B1denom = B1denom + (x_train[i] - x_bar)*(x_train[i] - x_bar)\n",
        "# TODO: check shapes of numerator and denominator and comment the result"
      ],
      "execution_count": null,
      "outputs": [
        {
          "output_type": "stream",
          "name": "stdout",
          "text": [
            "2.0\n",
            "2.0\n",
            "()\n",
            "()\n"
          ]
        }
      ]
    },
    {
      "cell_type": "markdown",
      "metadata": {
        "id": "wBsl6RYNwXOS"
      },
      "source": [
        "* Why the empty brackets? <br>\n",
        " ** Numerator and Denominateur are numbers therefor they don't have any dimension **"
      ]
    },
    {
      "cell_type": "code",
      "metadata": {
        "id": "ABTC0Xl7wXOT",
        "colab": {
          "base_uri": "https://localhost:8080/"
        },
        "outputId": "d83af386-6384-44bf-c2e9-481b1ad32e25"
      },
      "source": [
        "# TODO: compute slope beta_1\n",
        "beta_1 = num/denom\n",
        "\n",
        "# TODO: compute intercept beta_0\n",
        "beta_0 = y_bar-beta_1*x_bar\n",
        "\n",
        "print(\"The best-fit line is {0:3.2f} + {1:3.2f} * x\".format(beta_0, beta_1))\n",
        "print(f'The best fit is {beta_0}')"
      ],
      "execution_count": null,
      "outputs": [
        {
          "output_type": "stream",
          "name": "stdout",
          "text": [
            "The best-fit line is 0.67 + 1.00 * x\n",
            "The best fit is 0.6666666666666665\n"
          ]
        }
      ]
    },
    {
      "cell_type": "markdown",
      "metadata": {
        "id": "SM5LLOi5wXOT"
      },
      "source": [
        "<div class=\"exercise\"><b>Exercise (5 min)</b></div>\n",
        "\n",
        "Turn the code from the above cells into a function called `simple_linear_regression_fit`, that inputs the training data and returns `beta0` and `beta1`.\n",
        "\n",
        "To do this, copy and paste the code from the above cells below and adjust the code as needed, so that the training data becomes the input and the betas become the output.\n",
        "\n",
        "```python\n",
        "def simple_linear_regression_fit(x_train: np.ndarray, y_train: np.ndarray) -> np.ndarray:\n",
        "    \n",
        "    return\n",
        "```\n",
        "\n",
        "Check your function by calling it with the training data from above and printing out the beta values."
      ]
    },
    {
      "cell_type": "code",
      "metadata": {
        "id": "9fAohzvTwXOT"
      },
      "source": [
        "# TODO: Your code here\n",
        "def simple_linear_regression_fit(x_train: np.ndarray, y_train: np.ndarray) -> np.ndarray:\n",
        "    x_train = x_train.reshape(len(x_train),1)\n",
        "    y_train = y_train.reshape(len(y_train),1)\n",
        "    x_bar=np.mean(x_train)\n",
        "    y_bar=np.mean(y_train)\n",
        "    num= np.sum((x_train - x_bar)*(y_train - y_bar))\n",
        "    denom=np.sum((x_train - x_bar)*(x_train - x_bar))\n",
        "    beta_1 = num/denom\n",
        "    beta_0 = y_bar-beta_1*x_bar\n",
        "    return beta_0,beta_1"
      ],
      "execution_count": null,
      "outputs": []
    },
    {
      "cell_type": "markdown",
      "metadata": {
        "id": "tpaUhEgawXOU"
      },
      "source": [
        "* Let's run this function and see the coefficients"
      ]
    },
    {
      "cell_type": "code",
      "metadata": {
        "colab": {
          "base_uri": "https://localhost:8080/"
        },
        "id": "omXVVvukk-Mz",
        "outputId": "72c8b233-a92d-447a-fd24-96704b3415c2"
      },
      "source": [
        "x_train = np.array([1 ,2, 3])\n",
        "y_train = np.array([2, 2, 4])\n",
        "\n",
        "betas = simple_linear_regression_fit(x_train, y_train)\n",
        "\n",
        "beta_0 = betas[0]\n",
        "beta_1 = betas[1]\n",
        "\n",
        "print(\"The best-fit line is {0:8.6f} + {1:8.6f} * x\".format(beta_0, beta_1))"
      ],
      "execution_count": null,
      "outputs": [
        {
          "output_type": "stream",
          "name": "stdout",
          "text": [
            "The best-fit line is 0.666667 + 1.000000 * x\n"
          ]
        }
      ]
    },
    {
      "cell_type": "markdown",
      "metadata": {
        "id": "AU_8bg7YwXOV"
      },
      "source": [
        "<div class=\"exercise\"><b>Exercise (10 min)</b></div>\n",
        "* Do the values of `beta0` and `beta1` seem reasonable?\n",
        "* Plot the training data using a scatter plot.\n",
        "* Plot the best fit line with `beta0` and `beta1` together with the training data."
      ]
    },
    {
      "cell_type": "code",
      "metadata": {
        "id": "m9F_N4_CwXOV",
        "colab": {
          "base_uri": "https://localhost:8080/",
          "height": 387
        },
        "outputId": "b9be267e-bc71-4656-ff98-8cc0c6b392ab"
      },
      "source": [
        "# TODO: Your code here\n",
        "\n",
        "nice_scatterplot(x_train, y_train, 'My training data')\n",
        "x = np.arange(0,5,0.1)\n",
        "y=beta_0+beta_1*x\n",
        "plt.plot(x,y)"
      ],
      "execution_count": null,
      "outputs": [
        {
          "output_type": "execute_result",
          "data": {
            "text/plain": [
              "[<matplotlib.lines.Line2D at 0x7feb89378050>]"
            ]
          },
          "metadata": {},
          "execution_count": 16
        },
        {
          "output_type": "display_data",
          "data": {
            "image/png": "[encoded data removed]",
            "text/plain": [
              "<Figure size 576x360 with 1 Axes>"
            ]
          },
          "metadata": {
            "needs_background": "light"
          }
        }
      ]
    },
    {
      "cell_type": "markdown",
      "metadata": {
        "id": "Glk0ElImwXOX"
      },
      "source": [
        "Do the values of `beta0` and `beta1` seem reasonable ? <br>\n",
        "**Yes, they seem to show the linear approximation of the points **\n"
      ]
    },
    {
      "cell_type": "markdown",
      "metadata": {
        "id": "4qkAWd7iwXOX"
      },
      "source": [
        "### Building a model with `sklearn`\n",
        "\n",
        "Now that we can concretely fit the training data from scratch, let's learn a `python` packages to do it all for us:\n",
        "* [scikit-learn (sklearn)](http://scikit-learn.org/stable/modules/generated/sklearn.linear_model.LinearRegression.html).\n",
        "\n",
        "Our goal  is to show how to implement simple linear regression with these packages.  For an important sanity check, we compare the $\\beta$ values from `sklearn` to the $\\beta$ values that we found from above with our own implementation."
      ]
    },
    {
      "cell_type": "markdown",
      "metadata": {
        "id": "X_IS8KJfwXOa"
      },
      "source": [
        "Now let's turn our attention to the `sklearn` library."
      ]
    },
    {
      "cell_type": "code",
      "metadata": {
        "id": "w_646N2vwXOb"
      },
      "source": [
        "from sklearn import linear_model"
      ],
      "execution_count": null,
      "outputs": []
    },
    {
      "cell_type": "code",
      "metadata": {
        "id": "HZC055TXwXOb",
        "colab": {
          "base_uri": "https://localhost:8080/"
        },
        "outputId": "eddea938-a710-4de5-e59e-925754775c7e"
      },
      "source": [
        "x_train = x_train.reshape(len(x_train),1)\n",
        "y_train = y_train.reshape(len(y_train),1)\n",
        "# build the least squares model\n",
        "toyregr = linear_model.LinearRegression()\n",
        "\n",
        "# save regression info (parameters, etc) in results\n",
        "results = toyregr.fit(x_train, y_train)\n",
        "\n",
        "# pull the beta parameters out from results\n",
        "beta0_skl = toyregr.intercept_\n",
        "beta1_skl = toyregr.coef_[0]\n",
        "\n",
        "print(\"The regression coefficients from the sklearn package are: beta_0 = {0:8.6f} and beta_1 = {1:8.6f}\".format(beta0_skl[0], beta1_skl[0]))"
      ],
      "execution_count": null,
      "outputs": [
        {
          "output_type": "stream",
          "name": "stdout",
          "text": [
            "The regression coefficients from the sklearn package are: beta_0 = 0.666667 and beta_1 = 1.000000\n"
          ]
        }
      ]
    },
    {
      "cell_type": "markdown",
      "metadata": {
        "id": "ZWWQMamKwXOc"
      },
      "source": [
        "We should feel pretty good about ourselves now, and we're ready to move on to a real problem!"
      ]
    },
    {
      "cell_type": "markdown",
      "metadata": {
        "id": "T49yRMDJwXOc"
      },
      "source": [
        "### The shape of things in `scikit-learn`\n",
        "Before diving right in to a \"real\" problem, we really ought to discuss more of the details of `sklearn`.  We do this now.  Along the way, we'll import the real-world dataset."
      ]
    },
    {
      "cell_type": "markdown",
      "metadata": {
        "id": "7GI1MXHYwXOc"
      },
      "source": [
        "`Scikit-learn` is the main `python` machine learning library. It consists of many learners which can learn models from data, as well as a lot of utility functions such as `train_test_split`. It can be used in `python` by the incantation `import sklearn`.\n",
        "\n",
        "In scikit-learn, an **estimator** is a Python object that implements the methods fit(X, y) and predict(T)\n",
        "\n",
        "Let's see the structure of `scikit-learn` needed to make these fits. `.fit` always takes two arguments:\n",
        "```python\n",
        "  estimator.fit(Xtrain, ytrain)\n",
        "```\n",
        "We will consider two estimators in this lab: `LinearRegression` and (Bonus)`KNeighborsRegressor`.\n",
        "\n",
        "Critically, `Xtrain` must be in the form of an *array of arrays* (or a 2x2 array) with the inner arrays each corresponding to one sample, and whose elements correspond to the feature values for that sample (visuals coming in a moment).\n",
        "\n",
        "`ytrain` on the other hand is a simple array of responses.  These are continuous for regression problems.\n",
        "\n",
        "![](images/sklearn2.jpg)"
      ]
    },
    {
      "cell_type": "markdown",
      "metadata": {
        "id": "Y3Glph1owXOd"
      },
      "source": [
        "### Practice with `sklearn`\n",
        "We begin by loading up the `mtcars` dataset and cleaning it up a little bit."
      ]
    },
    {
      "cell_type": "code",
      "metadata": {
        "colab": {
          "base_uri": "https://localhost:8080/"
        },
        "id": "i-Tk0NyWT9J0",
        "outputId": "20f6ab3b-720c-44bd-d704-a7ec254cd9d8"
      },
      "source": [
        "from google.colab import drive\n",
        "drive.mount('/content/drive')"
      ],
      "execution_count": null,
      "outputs": [
        {
          "output_type": "stream",
          "name": "stdout",
          "text": [
            "Drive already mounted at /content/drive; to attempt to forcibly remount, call drive.mount(\"/content/drive\", force_remount=True).\n"
          ]
        }
      ]
    },
    {
      "cell_type": "code",
      "metadata": {
        "id": "zl0vfbykwXOd",
        "colab": {
          "base_uri": "https://localhost:8080/",
          "height": 1000
        },
        "outputId": "30d7a2c3-77e4-4cac-b1f8-053a265e610c"
      },
      "source": [
        "import pandas as pd\n",
        "\n",
        "#load mtcars\n",
        "dfcars = pd.read_csv(\"/content/drive/MyDrive/Taff 5A/mtcars.csv\")\n",
        "dfcars = dfcars.rename(columns={\"Unnamed: 0\":\"car name\"})\n",
        "dfcars"
      ],
      "execution_count": null,
      "outputs": [
        {
          "output_type": "execute_result",
          "data": {
            "text/html": [
              "<div>\n",
              "<style scoped>\n",
              "    .dataframe tbody tr th:only-of-type {\n",
              "        vertical-align: middle;\n",
              "    }\n",
              "\n",
              "    .dataframe tbody tr th {\n",
              "        vertical-align: top;\n",
              "    }\n",
              "\n",
              "    .dataframe thead th {\n",
              "        text-align: right;\n",
              "    }\n",
              "</style>\n",
              "<table border=\"1\" class=\"dataframe\">\n",
              "  <thead>\n",
              "    <tr style=\"text-align: right;\">\n",
              "      <th></th>\n",
              "      <th>car name</th>\n",
              "      <th>mpg</th>\n",
              "      <th>cyl</th>\n",
              "      <th>disp</th>\n",
              "      <th>hp</th>\n",
              "      <th>drat</th>\n",
              "      <th>wt</th>\n",
              "      <th>qsec</th>\n",
              "      <th>vs</th>\n",
              "      <th>am</th>\n",
              "      <th>gear</th>\n",
              "      <th>carb</th>\n",
              "    </tr>\n",
              "  </thead>\n",
              "  <tbody>\n",
              "    <tr>\n",
              "      <th>0</th>\n",
              "      <td>Mazda RX4</td>\n",
              "      <td>21.0</td>\n",
              "      <td>6</td>\n",
              "      <td>160.0</td>\n",
              "      <td>110</td>\n",
              "      <td>3.90</td>\n",
              "      <td>2.620</td>\n",
              "      <td>16.46</td>\n",
              "      <td>0</td>\n",
              "      <td>1</td>\n",
              "      <td>4</td>\n",
              "      <td>4</td>\n",
              "    </tr>\n",
              "    <tr>\n",
              "      <th>1</th>\n",
              "      <td>Mazda RX4 Wag</td>\n",
              "      <td>21.0</td>\n",
              "      <td>6</td>\n",
              "      <td>160.0</td>\n",
              "      <td>110</td>\n",
              "      <td>3.90</td>\n",
              "      <td>2.875</td>\n",
              "      <td>17.02</td>\n",
              "      <td>0</td>\n",
              "      <td>1</td>\n",
              "      <td>4</td>\n",
              "      <td>4</td>\n",
              "    </tr>\n",
              "    <tr>\n",
              "      <th>2</th>\n",
              "      <td>Datsun 710</td>\n",
              "      <td>22.8</td>\n",
              "      <td>4</td>\n",
              "      <td>108.0</td>\n",
              "      <td>93</td>\n",
              "      <td>3.85</td>\n",
              "      <td>2.320</td>\n",
              "      <td>18.61</td>\n",
              "      <td>1</td>\n",
              "      <td>1</td>\n",
              "      <td>4</td>\n",
              "      <td>1</td>\n",
              "    </tr>\n",
              "    <tr>\n",
              "      <th>3</th>\n",
              "      <td>Hornet 4 Drive</td>\n",
              "      <td>21.4</td>\n",
              "      <td>6</td>\n",
              "      <td>258.0</td>\n",
              "      <td>110</td>\n",
              "      <td>3.08</td>\n",
              "      <td>3.215</td>\n",
              "      <td>19.44</td>\n",
              "      <td>1</td>\n",
              "      <td>0</td>\n",
              "      <td>3</td>\n",
              "      <td>1</td>\n",
              "    </tr>\n",
              "    <tr>\n",
              "      <th>4</th>\n",
              "      <td>Hornet Sportabout</td>\n",
              "      <td>18.7</td>\n",
              "      <td>8</td>\n",
              "      <td>360.0</td>\n",
              "      <td>175</td>\n",
              "      <td>3.15</td>\n",
              "      <td>3.440</td>\n",
              "      <td>17.02</td>\n",
              "      <td>0</td>\n",
              "      <td>0</td>\n",
              "      <td>3</td>\n",
              "      <td>2</td>\n",
              "    </tr>\n",
              "    <tr>\n",
              "      <th>5</th>\n",
              "      <td>Valiant</td>\n",
              "      <td>18.1</td>\n",
              "      <td>6</td>\n",
              "      <td>225.0</td>\n",
              "      <td>105</td>\n",
              "      <td>2.76</td>\n",
              "      <td>3.460</td>\n",
              "      <td>20.22</td>\n",
              "      <td>1</td>\n",
              "      <td>0</td>\n",
              "      <td>3</td>\n",
              "      <td>1</td>\n",
              "    </tr>\n",
              "    <tr>\n",
              "      <th>6</th>\n",
              "      <td>Duster 360</td>\n",
              "      <td>14.3</td>\n",
              "      <td>8</td>\n",
              "      <td>360.0</td>\n",
              "      <td>245</td>\n",
              "      <td>3.21</td>\n",
              "      <td>3.570</td>\n",
              "      <td>15.84</td>\n",
              "      <td>0</td>\n",
              "      <td>0</td>\n",
              "      <td>3</td>\n",
              "      <td>4</td>\n",
              "    </tr>\n",
              "    <tr>\n",
              "      <th>7</th>\n",
              "      <td>Merc 240D</td>\n",
              "      <td>24.4</td>\n",
              "      <td>4</td>\n",
              "      <td>146.7</td>\n",
              "      <td>62</td>\n",
              "      <td>3.69</td>\n",
              "      <td>3.190</td>\n",
              "      <td>20.00</td>\n",
              "      <td>1</td>\n",
              "      <td>0</td>\n",
              "      <td>4</td>\n",
              "      <td>2</td>\n",
              "    </tr>\n",
              "    <tr>\n",
              "      <th>8</th>\n",
              "      <td>Merc 230</td>\n",
              "      <td>22.8</td>\n",
              "      <td>4</td>\n",
              "      <td>140.8</td>\n",
              "      <td>95</td>\n",
              "      <td>3.92</td>\n",
              "      <td>3.150</td>\n",
              "      <td>22.90</td>\n",
              "      <td>1</td>\n",
              "      <td>0</td>\n",
              "      <td>4</td>\n",
              "      <td>2</td>\n",
              "    </tr>\n",
              "    <tr>\n",
              "      <th>9</th>\n",
              "      <td>Merc 280</td>\n",
              "      <td>19.2</td>\n",
              "      <td>6</td>\n",
              "      <td>167.6</td>\n",
              "      <td>123</td>\n",
              "      <td>3.92</td>\n",
              "      <td>3.440</td>\n",
              "      <td>18.30</td>\n",
              "      <td>1</td>\n",
              "      <td>0</td>\n",
              "      <td>4</td>\n",
              "      <td>4</td>\n",
              "    </tr>\n",
              "    <tr>\n",
              "      <th>10</th>\n",
              "      <td>Merc 280C</td>\n",
              "      <td>17.8</td>\n",
              "      <td>6</td>\n",
              "      <td>167.6</td>\n",
              "      <td>123</td>\n",
              "      <td>3.92</td>\n",
              "      <td>3.440</td>\n",
              "      <td>18.90</td>\n",
              "      <td>1</td>\n",
              "      <td>0</td>\n",
              "      <td>4</td>\n",
              "      <td>4</td>\n",
              "    </tr>\n",
              "    <tr>\n",
              "      <th>11</th>\n",
              "      <td>Merc 450SE</td>\n",
              "      <td>16.4</td>\n",
              "      <td>8</td>\n",
              "      <td>275.8</td>\n",
              "      <td>180</td>\n",
              "      <td>3.07</td>\n",
              "      <td>4.070</td>\n",
              "      <td>17.40</td>\n",
              "      <td>0</td>\n",
              "      <td>0</td>\n",
              "      <td>3</td>\n",
              "      <td>3</td>\n",
              "    </tr>\n",
              "    <tr>\n",
              "      <th>12</th>\n",
              "      <td>Merc 450SL</td>\n",
              "      <td>17.3</td>\n",
              "      <td>8</td>\n",
              "      <td>275.8</td>\n",
              "      <td>180</td>\n",
              "      <td>3.07</td>\n",
              "      <td>3.730</td>\n",
              "      <td>17.60</td>\n",
              "      <td>0</td>\n",
              "      <td>0</td>\n",
              "      <td>3</td>\n",
              "      <td>3</td>\n",
              "    </tr>\n",
              "    <tr>\n",
              "      <th>13</th>\n",
              "      <td>Merc 450SLC</td>\n",
              "      <td>15.2</td>\n",
              "      <td>8</td>\n",
              "      <td>275.8</td>\n",
              "      <td>180</td>\n",
              "      <td>3.07</td>\n",
              "      <td>3.780</td>\n",
              "      <td>18.00</td>\n",
              "      <td>0</td>\n",
              "      <td>0</td>\n",
              "      <td>3</td>\n",
              "      <td>3</td>\n",
              "    </tr>\n",
              "    <tr>\n",
              "      <th>14</th>\n",
              "      <td>Cadillac Fleetwood</td>\n",
              "      <td>10.4</td>\n",
              "      <td>8</td>\n",
              "      <td>472.0</td>\n",
              "      <td>205</td>\n",
              "      <td>2.93</td>\n",
              "      <td>5.250</td>\n",
              "      <td>17.98</td>\n",
              "      <td>0</td>\n",
              "      <td>0</td>\n",
              "      <td>3</td>\n",
              "      <td>4</td>\n",
              "    </tr>\n",
              "    <tr>\n",
              "      <th>15</th>\n",
              "      <td>Lincoln Continental</td>\n",
              "      <td>10.4</td>\n",
              "      <td>8</td>\n",
              "      <td>460.0</td>\n",
              "      <td>215</td>\n",
              "      <td>3.00</td>\n",
              "      <td>5.424</td>\n",
              "      <td>17.82</td>\n",
              "      <td>0</td>\n",
              "      <td>0</td>\n",
              "      <td>3</td>\n",
              "      <td>4</td>\n",
              "    </tr>\n",
              "    <tr>\n",
              "      <th>16</th>\n",
              "      <td>Chrysler Imperial</td>\n",
              "      <td>14.7</td>\n",
              "      <td>8</td>\n",
              "      <td>440.0</td>\n",
              "      <td>230</td>\n",
              "      <td>3.23</td>\n",
              "      <td>5.345</td>\n",
              "      <td>17.42</td>\n",
              "      <td>0</td>\n",
              "      <td>0</td>\n",
              "      <td>3</td>\n",
              "      <td>4</td>\n",
              "    </tr>\n",
              "    <tr>\n",
              "      <th>17</th>\n",
              "      <td>Fiat 128</td>\n",
              "      <td>32.4</td>\n",
              "      <td>4</td>\n",
              "      <td>78.7</td>\n",
              "      <td>66</td>\n",
              "      <td>4.08</td>\n",
              "      <td>2.200</td>\n",
              "      <td>19.47</td>\n",
              "      <td>1</td>\n",
              "      <td>1</td>\n",
              "      <td>4</td>\n",
              "      <td>1</td>\n",
              "    </tr>\n",
              "    <tr>\n",
              "      <th>18</th>\n",
              "      <td>Honda Civic</td>\n",
              "      <td>30.4</td>\n",
              "      <td>4</td>\n",
              "      <td>75.7</td>\n",
              "      <td>52</td>\n",
              "      <td>4.93</td>\n",
              "      <td>1.615</td>\n",
              "      <td>18.52</td>\n",
              "      <td>1</td>\n",
              "      <td>1</td>\n",
              "      <td>4</td>\n",
              "      <td>2</td>\n",
              "    </tr>\n",
              "    <tr>\n",
              "      <th>19</th>\n",
              "      <td>Toyota Corolla</td>\n",
              "      <td>33.9</td>\n",
              "      <td>4</td>\n",
              "      <td>71.1</td>\n",
              "      <td>65</td>\n",
              "      <td>4.22</td>\n",
              "      <td>1.835</td>\n",
              "      <td>19.90</td>\n",
              "      <td>1</td>\n",
              "      <td>1</td>\n",
              "      <td>4</td>\n",
              "      <td>1</td>\n",
              "    </tr>\n",
              "    <tr>\n",
              "      <th>20</th>\n",
              "      <td>Toyota Corona</td>\n",
              "      <td>21.5</td>\n",
              "      <td>4</td>\n",
              "      <td>120.1</td>\n",
              "      <td>97</td>\n",
              "      <td>3.70</td>\n",
              "      <td>2.465</td>\n",
              "      <td>20.01</td>\n",
              "      <td>1</td>\n",
              "      <td>0</td>\n",
              "      <td>3</td>\n",
              "      <td>1</td>\n",
              "    </tr>\n",
              "    <tr>\n",
              "      <th>21</th>\n",
              "      <td>Dodge Challenger</td>\n",
              "      <td>15.5</td>\n",
              "      <td>8</td>\n",
              "      <td>318.0</td>\n",
              "      <td>150</td>\n",
              "      <td>2.76</td>\n",
              "      <td>3.520</td>\n",
              "      <td>16.87</td>\n",
              "      <td>0</td>\n",
              "      <td>0</td>\n",
              "      <td>3</td>\n",
              "      <td>2</td>\n",
              "    </tr>\n",
              "    <tr>\n",
              "      <th>22</th>\n",
              "      <td>AMC Javelin</td>\n",
              "      <td>15.2</td>\n",
              "      <td>8</td>\n",
              "      <td>304.0</td>\n",
              "      <td>150</td>\n",
              "      <td>3.15</td>\n",
              "      <td>3.435</td>\n",
              "      <td>17.30</td>\n",
              "      <td>0</td>\n",
              "      <td>0</td>\n",
              "      <td>3</td>\n",
              "      <td>2</td>\n",
              "    </tr>\n",
              "    <tr>\n",
              "      <th>23</th>\n",
              "      <td>Camaro Z28</td>\n",
              "      <td>13.3</td>\n",
              "      <td>8</td>\n",
              "      <td>350.0</td>\n",
              "      <td>245</td>\n",
              "      <td>3.73</td>\n",
              "      <td>3.840</td>\n",
              "      <td>15.41</td>\n",
              "      <td>0</td>\n",
              "      <td>0</td>\n",
              "      <td>3</td>\n",
              "      <td>4</td>\n",
              "    </tr>\n",
              "    <tr>\n",
              "      <th>24</th>\n",
              "      <td>Pontiac Firebird</td>\n",
              "      <td>19.2</td>\n",
              "      <td>8</td>\n",
              "      <td>400.0</td>\n",
              "      <td>175</td>\n",
              "      <td>3.08</td>\n",
              "      <td>3.845</td>\n",
              "      <td>17.05</td>\n",
              "      <td>0</td>\n",
              "      <td>0</td>\n",
              "      <td>3</td>\n",
              "      <td>2</td>\n",
              "    </tr>\n",
              "    <tr>\n",
              "      <th>25</th>\n",
              "      <td>Fiat X1-9</td>\n",
              "      <td>27.3</td>\n",
              "      <td>4</td>\n",
              "      <td>79.0</td>\n",
              "      <td>66</td>\n",
              "      <td>4.08</td>\n",
              "      <td>1.935</td>\n",
              "      <td>18.90</td>\n",
              "      <td>1</td>\n",
              "      <td>1</td>\n",
              "      <td>4</td>\n",
              "      <td>1</td>\n",
              "    </tr>\n",
              "    <tr>\n",
              "      <th>26</th>\n",
              "      <td>Porsche 914-2</td>\n",
              "      <td>26.0</td>\n",
              "      <td>4</td>\n",
              "      <td>120.3</td>\n",
              "      <td>91</td>\n",
              "      <td>4.43</td>\n",
              "      <td>2.140</td>\n",
              "      <td>16.70</td>\n",
              "      <td>0</td>\n",
              "      <td>1</td>\n",
              "      <td>5</td>\n",
              "      <td>2</td>\n",
              "    </tr>\n",
              "    <tr>\n",
              "      <th>27</th>\n",
              "      <td>Lotus Europa</td>\n",
              "      <td>30.4</td>\n",
              "      <td>4</td>\n",
              "      <td>95.1</td>\n",
              "      <td>113</td>\n",
              "      <td>3.77</td>\n",
              "      <td>1.513</td>\n",
              "      <td>16.90</td>\n",
              "      <td>1</td>\n",
              "      <td>1</td>\n",
              "      <td>5</td>\n",
              "      <td>2</td>\n",
              "    </tr>\n",
              "    <tr>\n",
              "      <th>28</th>\n",
              "      <td>Ford Pantera L</td>\n",
              "      <td>15.8</td>\n",
              "      <td>8</td>\n",
              "      <td>351.0</td>\n",
              "      <td>264</td>\n",
              "      <td>4.22</td>\n",
              "      <td>3.170</td>\n",
              "      <td>14.50</td>\n",
              "      <td>0</td>\n",
              "      <td>1</td>\n",
              "      <td>5</td>\n",
              "      <td>4</td>\n",
              "    </tr>\n",
              "    <tr>\n",
              "      <th>29</th>\n",
              "      <td>Ferrari Dino</td>\n",
              "      <td>19.7</td>\n",
              "      <td>6</td>\n",
              "      <td>145.0</td>\n",
              "      <td>175</td>\n",
              "      <td>3.62</td>\n",
              "      <td>2.770</td>\n",
              "      <td>15.50</td>\n",
              "      <td>0</td>\n",
              "      <td>1</td>\n",
              "      <td>5</td>\n",
              "      <td>6</td>\n",
              "    </tr>\n",
              "    <tr>\n",
              "      <th>30</th>\n",
              "      <td>Maserati Bora</td>\n",
              "      <td>15.0</td>\n",
              "      <td>8</td>\n",
              "      <td>301.0</td>\n",
              "      <td>335</td>\n",
              "      <td>3.54</td>\n",
              "      <td>3.570</td>\n",
              "      <td>14.60</td>\n",
              "      <td>0</td>\n",
              "      <td>1</td>\n",
              "      <td>5</td>\n",
              "      <td>8</td>\n",
              "    </tr>\n",
              "    <tr>\n",
              "      <th>31</th>\n",
              "      <td>Volvo 142E</td>\n",
              "      <td>21.4</td>\n",
              "      <td>4</td>\n",
              "      <td>121.0</td>\n",
              "      <td>109</td>\n",
              "      <td>4.11</td>\n",
              "      <td>2.780</td>\n",
              "      <td>18.60</td>\n",
              "      <td>1</td>\n",
              "      <td>1</td>\n",
              "      <td>4</td>\n",
              "      <td>2</td>\n",
              "    </tr>\n",
              "  </tbody>\n",
              "</table>\n",
              "</div>"
            ],
            "text/plain": [
              "               car name   mpg  cyl   disp   hp  drat     wt   qsec  vs  am  gear  carb\n",
              "0             Mazda RX4  21.0    6  160.0  110  3.90  2.620  16.46   0   1     4     4\n",
              "1         Mazda RX4 Wag  21.0    6  160.0  110  3.90  2.875  17.02   0   1     4     4\n",
              "2            Datsun 710  22.8    4  108.0   93  3.85  2.320  18.61   1   1     4     1\n",
              "3        Hornet 4 Drive  21.4    6  258.0  110  3.08  3.215  19.44   1   0     3     1\n",
              "4     Hornet Sportabout  18.7    8  360.0  175  3.15  3.440  17.02   0   0     3     2\n",
              "5               Valiant  18.1    6  225.0  105  2.76  3.460  20.22   1   0     3     1\n",
              "6            Duster 360  14.3    8  360.0  245  3.21  3.570  15.84   0   0     3     4\n",
              "7             Merc 240D  24.4    4  146.7   62  3.69  3.190  20.00   1   0     4     2\n",
              "8              Merc 230  22.8    4  140.8   95  3.92  3.150  22.90   1   0     4     2\n",
              "9              Merc 280  19.2    6  167.6  123  3.92  3.440  18.30   1   0     4     4\n",
              "10            Merc 280C  17.8    6  167.6  123  3.92  3.440  18.90   1   0     4     4\n",
              "11           Merc 450SE  16.4    8  275.8  180  3.07  4.070  17.40   0   0     3     3\n",
              "12           Merc 450SL  17.3    8  275.8  180  3.07  3.730  17.60   0   0     3     3\n",
              "13          Merc 450SLC  15.2    8  275.8  180  3.07  3.780  18.00   0   0     3     3\n",
              "14   Cadillac Fleetwood  10.4    8  472.0  205  2.93  5.250  17.98   0   0     3     4\n",
              "15  Lincoln Continental  10.4    8  460.0  215  3.00  5.424  17.82   0   0     3     4\n",
              "16    Chrysler Imperial  14.7    8  440.0  230  3.23  5.345  17.42   0   0     3     4\n",
              "17             Fiat 128  32.4    4   78.7   66  4.08  2.200  19.47   1   1     4     1\n",
              "18          Honda Civic  30.4    4   75.7   52  4.93  1.615  18.52   1   1     4     2\n",
              "19       Toyota Corolla  33.9    4   71.1   65  4.22  1.835  19.90   1   1     4     1\n",
              "20        Toyota Corona  21.5    4  120.1   97  3.70  2.465  20.01   1   0     3     1\n",
              "21     Dodge Challenger  15.5    8  318.0  150  2.76  3.520  16.87   0   0     3     2\n",
              "22          AMC Javelin  15.2    8  304.0  150  3.15  3.435  17.30   0   0     3     2\n",
              "23           Camaro Z28  13.3    8  350.0  245  3.73  3.840  15.41   0   0     3     4\n",
              "24     Pontiac Firebird  19.2    8  400.0  175  3.08  3.845  17.05   0   0     3     2\n",
              "25            Fiat X1-9  27.3    4   79.0   66  4.08  1.935  18.90   1   1     4     1\n",
              "26        Porsche 914-2  26.0    4  120.3   91  4.43  2.140  16.70   0   1     5     2\n",
              "27         Lotus Europa  30.4    4   95.1  113  3.77  1.513  16.90   1   1     5     2\n",
              "28       Ford Pantera L  15.8    8  351.0  264  4.22  3.170  14.50   0   1     5     4\n",
              "29         Ferrari Dino  19.7    6  145.0  175  3.62  2.770  15.50   0   1     5     6\n",
              "30        Maserati Bora  15.0    8  301.0  335  3.54  3.570  14.60   0   1     5     8\n",
              "31           Volvo 142E  21.4    4  121.0  109  4.11  2.780  18.60   1   1     4     2"
            ]
          },
          "metadata": {},
          "execution_count": 53
        }
      ]
    },
    {
      "cell_type": "markdown",
      "metadata": {
        "id": "IApn4wWRwXOd"
      },
      "source": [
        "Next, let's split the dataset into a training set and test set."
      ]
    },
    {
      "cell_type": "code",
      "metadata": {
        "id": "lQcEmXWkwXOd"
      },
      "source": [
        "# split into training set and testing set\n",
        "from sklearn.model_selection import train_test_split\n",
        "\n",
        "# set random_state to get the same split every time\n",
        "traindf, testdf = train_test_split(dfcars, test_size=0.2, random_state=42)"
      ],
      "execution_count": null,
      "outputs": []
    },
    {
      "cell_type": "code",
      "metadata": {
        "id": "Js7QLjOrwXOd",
        "colab": {
          "base_uri": "https://localhost:8080/"
        },
        "outputId": "04c914ea-c918-4ae1-a4d3-9215897f14e5"
      },
      "source": [
        "# testing set is around 20% of the total data; training set is around 80%\n",
        "print(\"Shape of full dataset is: {0}\".format(dfcars.shape))\n",
        "print(\"Shape of training dataset is: {0}\".format(traindf.shape))\n",
        "print(\"Shape of test dataset is: {0}\".format(testdf.shape))"
      ],
      "execution_count": null,
      "outputs": [
        {
          "output_type": "stream",
          "name": "stdout",
          "text": [
            "Shape of full dataset is: (32, 12)\n",
            "Shape of training dataset is: (25, 12)\n",
            "Shape of test dataset is: (7, 12)\n"
          ]
        }
      ]
    },
    {
      "cell_type": "markdown",
      "metadata": {
        "id": "a6USiVsTwXOe"
      },
      "source": [
        "Now we have training and test data.  We still need to select a predictor and a response from this dataset.  Keep in mind that we need to choose the predictor and response from both the training and test set.  You will do this in the exercises below.  However, we provide some starter code for you to get things going."
      ]
    },
    {
      "cell_type": "code",
      "metadata": {
        "id": "s605rvKYwXOe",
        "colab": {
          "base_uri": "https://localhost:8080/"
        },
        "outputId": "1bc0038e-8229-4fb1-f927-dccc86ee558a"
      },
      "source": [
        "# Extract the response variable that we're interested in\n",
        "y_train = traindf.mpg\n"
      ],
      "execution_count": null,
      "outputs": [
        {
          "output_type": "execute_result",
          "data": {
            "text/plain": [
              "25    27.3\n",
              "12    17.3\n",
              "0     21.0\n",
              "4     18.7\n",
              "16    14.7\n",
              "5     18.1\n",
              "13    15.2\n",
              "11    16.4\n",
              "23    13.3\n",
              "1     21.0\n",
              "2     22.8\n",
              "26    26.0\n",
              "3     21.4\n",
              "21    15.5\n",
              "27    30.4\n",
              "22    15.2\n",
              "18    30.4\n",
              "31    21.4\n",
              "20    21.5\n",
              "7     24.4\n",
              "10    17.8\n",
              "14    10.4\n",
              "28    15.8\n",
              "19    33.9\n",
              "6     14.3\n",
              "Name: mpg, dtype: float64"
            ]
          },
          "metadata": {},
          "execution_count": 30
        }
      ]
    },
    {
      "cell_type": "markdown",
      "metadata": {
        "id": "BIarzv_8wXOe"
      },
      "source": [
        "Notice the shape of `y_train`."
      ]
    },
    {
      "cell_type": "code",
      "metadata": {
        "id": "19CEjbHTwXOe",
        "colab": {
          "base_uri": "https://localhost:8080/"
        },
        "outputId": "e37c62fa-66b7-4d6b-e608-e62dc30af427"
      },
      "source": [
        "np.shape(y_train)"
      ],
      "execution_count": null,
      "outputs": [
        {
          "output_type": "execute_result",
          "data": {
            "text/plain": [
              "(25,)"
            ]
          },
          "metadata": {},
          "execution_count": 31
        }
      ]
    },
    {
      "cell_type": "markdown",
      "metadata": {
        "id": "C7IY_mTRwXOe"
      },
      "source": [
        "Another way to see the shape is to use the shape method."
      ]
    },
    {
      "cell_type": "code",
      "metadata": {
        "id": "EM0GVgikwXOf",
        "colab": {
          "base_uri": "https://localhost:8080/"
        },
        "outputId": "ca3a7a8d-c338-4d91-bda8-7bf598e2a9ac"
      },
      "source": [
        "y_train.shape"
      ],
      "execution_count": null,
      "outputs": [
        {
          "output_type": "execute_result",
          "data": {
            "text/plain": [
              "(25,)"
            ]
          },
          "metadata": {},
          "execution_count": 32
        }
      ]
    },
    {
      "cell_type": "markdown",
      "metadata": {
        "id": "G8x9Nj5lwXOf"
      },
      "source": [
        "This is *not* an \"array of arrays\".  That's okay!  Remember, `sklearn` requires an array of arrays only for the predictor array!  You will have to pay close attention to this in the exercises later.\n",
        "\n",
        "For now, let's discuss two ways out of this debacle.  All we'll do is get `y_train` to be an array of arrays.  This doesn't hurt anything because `sklearn` doesn't care too much about the shape of `y_train`."
      ]
    },
    {
      "cell_type": "markdown",
      "metadata": {
        "id": "T7wrDHvYwXOf"
      },
      "source": [
        "First, let's reshape `y_train` to be an array of arrays using the `reshape` method.  We want the first dimension of `y_train` to be size $25$ and the second dimension to be size $1$."
      ]
    },
    {
      "cell_type": "code",
      "metadata": {
        "id": "VrkBmanowXOf",
        "colab": {
          "base_uri": "https://localhost:8080/"
        },
        "outputId": "78d32fde-fbcf-4aba-b59e-b046482fe367"
      },
      "source": [
        "y_train_reshape = y_train.values.reshape(y_train.shape[0], 1)\n",
        "y_train_reshape"
      ],
      "execution_count": null,
      "outputs": [
        {
          "output_type": "execute_result",
          "data": {
            "text/plain": [
              "array([[27.3],\n",
              "       [17.3],\n",
              "       [21. ],\n",
              "       [18.7],\n",
              "       [14.7],\n",
              "       [18.1],\n",
              "       [15.2],\n",
              "       [16.4],\n",
              "       [13.3],\n",
              "       [21. ],\n",
              "       [22.8],\n",
              "       [26. ],\n",
              "       [21.4],\n",
              "       [15.5],\n",
              "       [30.4],\n",
              "       [15.2],\n",
              "       [30.4],\n",
              "       [21.4],\n",
              "       [21.5],\n",
              "       [24.4],\n",
              "       [17.8],\n",
              "       [10.4],\n",
              "       [15.8],\n",
              "       [33.9],\n",
              "       [14.3]])"
            ]
          },
          "metadata": {},
          "execution_count": 33
        }
      ]
    },
    {
      "cell_type": "code",
      "metadata": {
        "id": "8mmykx_gwXOf",
        "colab": {
          "base_uri": "https://localhost:8080/"
        },
        "outputId": "6a62143d-c252-4fee-d04e-b3e0154f74d9"
      },
      "source": [
        "y_train_reshape.shape"
      ],
      "execution_count": null,
      "outputs": [
        {
          "output_type": "execute_result",
          "data": {
            "text/plain": [
              "(25, 1)"
            ]
          },
          "metadata": {},
          "execution_count": 34
        }
      ]
    },
    {
      "cell_type": "markdown",
      "metadata": {
        "id": "9KgYFNhhwXOf"
      },
      "source": [
        "Notice that `y_train.shape[0]` gives the size of the first dimension.\n",
        "\n",
        "There's an even easier way to get the correct shape right from the beginning."
      ]
    },
    {
      "cell_type": "code",
      "metadata": {
        "id": "qR8ugsamwXOg",
        "colab": {
          "base_uri": "https://localhost:8080/",
          "height": 824
        },
        "outputId": "5fe40113-9b35-4bf3-b4b6-981d22c6941f"
      },
      "source": [
        "y_train_reshape = traindf[['mpg']]\n",
        "y_train_reshape"
      ],
      "execution_count": null,
      "outputs": [
        {
          "output_type": "execute_result",
          "data": {
            "text/html": [
              "<div>\n",
              "<style scoped>\n",
              "    .dataframe tbody tr th:only-of-type {\n",
              "        vertical-align: middle;\n",
              "    }\n",
              "\n",
              "    .dataframe tbody tr th {\n",
              "        vertical-align: top;\n",
              "    }\n",
              "\n",
              "    .dataframe thead th {\n",
              "        text-align: right;\n",
              "    }\n",
              "</style>\n",
              "<table border=\"1\" class=\"dataframe\">\n",
              "  <thead>\n",
              "    <tr style=\"text-align: right;\">\n",
              "      <th></th>\n",
              "      <th>mpg</th>\n",
              "    </tr>\n",
              "  </thead>\n",
              "  <tbody>\n",
              "    <tr>\n",
              "      <th>25</th>\n",
              "      <td>27.3</td>\n",
              "    </tr>\n",
              "    <tr>\n",
              "      <th>12</th>\n",
              "      <td>17.3</td>\n",
              "    </tr>\n",
              "    <tr>\n",
              "      <th>0</th>\n",
              "      <td>21.0</td>\n",
              "    </tr>\n",
              "    <tr>\n",
              "      <th>4</th>\n",
              "      <td>18.7</td>\n",
              "    </tr>\n",
              "    <tr>\n",
              "      <th>16</th>\n",
              "      <td>14.7</td>\n",
              "    </tr>\n",
              "    <tr>\n",
              "      <th>5</th>\n",
              "      <td>18.1</td>\n",
              "    </tr>\n",
              "    <tr>\n",
              "      <th>13</th>\n",
              "      <td>15.2</td>\n",
              "    </tr>\n",
              "    <tr>\n",
              "      <th>11</th>\n",
              "      <td>16.4</td>\n",
              "    </tr>\n",
              "    <tr>\n",
              "      <th>23</th>\n",
              "      <td>13.3</td>\n",
              "    </tr>\n",
              "    <tr>\n",
              "      <th>1</th>\n",
              "      <td>21.0</td>\n",
              "    </tr>\n",
              "    <tr>\n",
              "      <th>2</th>\n",
              "      <td>22.8</td>\n",
              "    </tr>\n",
              "    <tr>\n",
              "      <th>26</th>\n",
              "      <td>26.0</td>\n",
              "    </tr>\n",
              "    <tr>\n",
              "      <th>3</th>\n",
              "      <td>21.4</td>\n",
              "    </tr>\n",
              "    <tr>\n",
              "      <th>21</th>\n",
              "      <td>15.5</td>\n",
              "    </tr>\n",
              "    <tr>\n",
              "      <th>27</th>\n",
              "      <td>30.4</td>\n",
              "    </tr>\n",
              "    <tr>\n",
              "      <th>22</th>\n",
              "      <td>15.2</td>\n",
              "    </tr>\n",
              "    <tr>\n",
              "      <th>18</th>\n",
              "      <td>30.4</td>\n",
              "    </tr>\n",
              "    <tr>\n",
              "      <th>31</th>\n",
              "      <td>21.4</td>\n",
              "    </tr>\n",
              "    <tr>\n",
              "      <th>20</th>\n",
              "      <td>21.5</td>\n",
              "    </tr>\n",
              "    <tr>\n",
              "      <th>7</th>\n",
              "      <td>24.4</td>\n",
              "    </tr>\n",
              "    <tr>\n",
              "      <th>10</th>\n",
              "      <td>17.8</td>\n",
              "    </tr>\n",
              "    <tr>\n",
              "      <th>14</th>\n",
              "      <td>10.4</td>\n",
              "    </tr>\n",
              "    <tr>\n",
              "      <th>28</th>\n",
              "      <td>15.8</td>\n",
              "    </tr>\n",
              "    <tr>\n",
              "      <th>19</th>\n",
              "      <td>33.9</td>\n",
              "    </tr>\n",
              "    <tr>\n",
              "      <th>6</th>\n",
              "      <td>14.3</td>\n",
              "    </tr>\n",
              "  </tbody>\n",
              "</table>\n",
              "</div>"
            ],
            "text/plain": [
              "     mpg\n",
              "25  27.3\n",
              "12  17.3\n",
              "0   21.0\n",
              "4   18.7\n",
              "16  14.7\n",
              "5   18.1\n",
              "13  15.2\n",
              "11  16.4\n",
              "23  13.3\n",
              "1   21.0\n",
              "2   22.8\n",
              "26  26.0\n",
              "3   21.4\n",
              "21  15.5\n",
              "27  30.4\n",
              "22  15.2\n",
              "18  30.4\n",
              "31  21.4\n",
              "20  21.5\n",
              "7   24.4\n",
              "10  17.8\n",
              "14  10.4\n",
              "28  15.8\n",
              "19  33.9\n",
              "6   14.3"
            ]
          },
          "metadata": {},
          "execution_count": 35
        }
      ]
    },
    {
      "cell_type": "code",
      "metadata": {
        "id": "2_FG34qKwXOg",
        "colab": {
          "base_uri": "https://localhost:8080/"
        },
        "outputId": "b6a73965-e923-420b-c569-067fdef5f20f"
      },
      "source": [
        "y_train_reshape.shape"
      ],
      "execution_count": null,
      "outputs": [
        {
          "output_type": "execute_result",
          "data": {
            "text/plain": [
              "(25, 1)"
            ]
          },
          "metadata": {},
          "execution_count": 36
        }
      ]
    },
    {
      "cell_type": "markdown",
      "metadata": {
        "id": "rqaUzEg8wXOg"
      },
      "source": [
        "Finally, there is a nice shortcut to reshaping an array.  `numpy` can infer a dimension based on the other dimensions specified."
      ]
    },
    {
      "cell_type": "code",
      "metadata": {
        "id": "AR9FyyMNwXOg",
        "colab": {
          "base_uri": "https://localhost:8080/"
        },
        "outputId": "93207c19-40aa-4ff3-d659-06a7126fe03b"
      },
      "source": [
        "y_train_reshape = y_train.values.reshape(-1,1)\n",
        "y_train_reshape.shape"
      ],
      "execution_count": null,
      "outputs": [
        {
          "output_type": "execute_result",
          "data": {
            "text/plain": [
              "(25, 1)"
            ]
          },
          "metadata": {},
          "execution_count": 52
        }
      ]
    },
    {
      "cell_type": "markdown",
      "metadata": {
        "id": "Wk4878EQwXOg"
      },
      "source": [
        "In this case, we said the second dimension should be size $1$.  Since the requirement of the `reshape()` method is that the requested dimensions be compatible, `numpy` decides the the first dimension must be size $25$.\n",
        "\n",
        "What would the `.shape` return if we did `y_train.values.reshape(-1,5)`?"
      ]
    },
    {
      "cell_type": "markdown",
      "metadata": {
        "id": "2_NDyKT3V6Yw"
      },
      "source": [
        "It will return a (5,5) shape to make sure every data is stored."
      ]
    },
    {
      "cell_type": "markdown",
      "metadata": {
        "id": "opkEMKViwXOg"
      },
      "source": [
        "Okay, enough of that.  The whole reason we went through that whole process was to show you how to reshape your data into the correct format.\n",
        "\n",
        "**IMPORTANT:** Remember that your response variable `ytrain` can be a vector but your predictor variable `xtrain` ***must*** be an array!"
      ]
    },
    {
      "cell_type": "markdown",
      "metadata": {
        "id": "VCUHoK7ZwXOh"
      },
      "source": [
        "### Simple linear regression with automobile data\n",
        "We will now use `sklearn` to predict automobile mileage per gallon (mpg) and evaluate these predictions. We already loaded the data and split them into a training set and a test set."
      ]
    },
    {
      "cell_type": "markdown",
      "metadata": {
        "id": "I3fMdtlEwXOh"
      },
      "source": [
        "We need to choose the variables that we think will be good predictors for the dependent variable `mpg`. "
      ]
    },
    {
      "cell_type": "markdown",
      "metadata": {
        "id": "2Omf2KNawXOh"
      },
      "source": [
        "<div class=\"exercise\"><b>Exercise (10 min)</b></div>\n",
        "* Pick one variable to use as a predictor for simple linear regression.  Create a markdown cell below and discuss your reasons.  \n",
        "* Justify your choice with some visualizations.  \n",
        "* Is there a second variable you'd like to use? For example, we're not doing multiple linear regression here, but if we were, is there another variable you'd like to include if we were using two predictors?"
      ]
    },
    {
      "cell_type": "markdown",
      "metadata": {
        "id": "eb8RB42TdFYD"
      },
      "source": [
        "Mpg and wt seem to be linearly related : whenever mgp goes down wt goes up. let's try to plot the estimator between the two.\n",
        "We could of chosen drat which seems to go up whenever mpg goes up.\n"
      ]
    },
    {
      "cell_type": "code",
      "metadata": {
        "id": "EM0ikIlpiA-n"
      },
      "source": [
        "from sklearn.linear_model import LinearRegression\n",
        "from sklearn.model_selection import train_test_split\n",
        "from sklearn.metrics import mean_squared_error"
      ],
      "execution_count": null,
      "outputs": []
    },
    {
      "cell_type": "code",
      "metadata": {
        "id": "q52BsXfbwXOh",
        "colab": {
          "base_uri": "https://localhost:8080/",
          "height": 299
        },
        "outputId": "a9a10e56-57a2-4ba7-a7a4-fac4543b6c0f"
      },
      "source": [
        "# Your code here\n",
        "#car name\tmpg\tcyl\tdisp\thp\tdrat\twt\tqsec\tvs\tam\tgear\tcarb\n",
        "#traindf, testdf, dfcars\n",
        "\n",
        "# split into training set and testing set\n",
        "from sklearn.model_selection import train_test_split\n",
        "\n",
        "# set random_state to get the same split every time\n",
        "traindf, testdf = train_test_split(dfcars, test_size=0.2, random_state=42)\n",
        "# testing set is around 20% of the total data; training set is around 80%\n",
        "print(\"Shape of full dataset is: {0}\".format(dfcars.shape))\n",
        "print(\"Shape of training dataset is: {0}\".format(traindf.shape))\n",
        "print(\"Shape of test dataset is: {0}\".format(testdf.shape))\n",
        "\n",
        "\n",
        "from sklearn.metrics import mean_squared_error\n",
        "y__test = testdf[['mpg']]\n",
        "x__test = testdf[['wt']]\n",
        "\n",
        "# build the least squares model\n",
        "test_model = linear_model.LinearRegression()\n",
        "\n",
        "# save regression info (parameters, etc) in results\n",
        "results = test_model.fit(x__test, y__test)\n",
        "\n",
        "# pull the beta parameters out from results\n",
        "beta0_skl = test_model.intercept_\n",
        "beta1_skl = test_model.coef_[0]\n",
        "\n",
        "print(\"The regression coefficients from the sklearn package are: beta_0 = {0:8.6f} and beta_1 = {1:8.6f}\".format(beta0_skl[0], beta1_skl[0]))\n",
        "\n",
        "#sns.scatterplot(x_train,y_train_reshape)\n",
        "plt.scatter(x__test,y__test)\n",
        "x = np.arange(0,14,2)\n",
        "y=beta0_skl[0]+beta1_skl[0]*x\n",
        "plt.plot(x,y)\n",
        "\n",
        "mean_squared_error(y, y_train_test)"
      ],
      "execution_count": null,
      "outputs": [
        {
          "output_type": "stream",
          "name": "stdout",
          "text": [
            "The regression coefficients from the sklearn package are: beta_0 = 40.111535 and beta_1 = -5.823220\n"
          ]
        },
        {
          "output_type": "execute_result",
          "data": {
            "text/plain": [
              "820.5582491570315"
            ]
          },
          "metadata": {},
          "execution_count": 83
        },
        {
          "output_type": "display_data",
          "data": {
            "image/png": "[encoded data removed]",
            "text/plain": [
              "<Figure size 432x288 with 1 Axes>"
            ]
          },
          "metadata": {
            "needs_background": "light"
          }
        }
      ]
    },
    {
      "cell_type": "code",
      "metadata": {
        "colab": {
          "base_uri": "https://localhost:8080/",
          "height": 299
        },
        "id": "tLUGSyoNevxw",
        "outputId": "631af5b3-8c81-4587-cb14-700fb8cb450a"
      },
      "source": [
        "# Your code here\n",
        "#car name\tmpg\tcyl\tdisp\thp\tdrat\twt\tqsec\tvs\tam\tgear\tcarb\n",
        "#traindf, testdf, dfcars\n",
        "y_train = traindf[['mpg']]\n",
        "x_train = traindf[['wt']]\n",
        "\n",
        "# build the least squares model\n",
        "train_model = linear_model.LinearRegression()\n",
        "\n",
        "# save regression info (parameters, etc) in results\n",
        "results = train_model.fit(x_train, y_train)\n",
        "\n",
        "# pull the beta parameters out from results\n",
        "beta0_skl = train_model.intercept_\n",
        "beta1_skl = train_model.coef_[0]\n",
        "\n",
        "print(\"The regression coefficients from the sklearn package are: beta_0 = {0:8.6f} and beta_1 = {1:8.6f}\".format(beta0_skl[0], beta1_skl[0]))\n",
        "\n",
        "#sns.scatterplot(x_train,y_train_reshape)\n",
        "plt.scatter(x_train,y_train)\n",
        "x = np.arange(0,25,1)\n",
        "y=beta0_skl[0]+beta1_skl[0]*x\n",
        "plt.plot(x,y)\n",
        "mean_squared_error(y, y_train)"
      ],
      "execution_count": null,
      "outputs": [
        {
          "output_type": "stream",
          "name": "stdout",
          "text": [
            "The regression coefficients from the sklearn package are: beta_0 = 36.937310 and beta_1 = -5.336941\n"
          ]
        },
        {
          "output_type": "execute_result",
          "data": {
            "text/plain": [
              "3787.0350363725556"
            ]
          },
          "metadata": {},
          "execution_count": 87
        },
        {
          "output_type": "display_data",
          "data": {
            "image/png": "[encoded data removed]",
            "text/plain": [
              "<Figure size 432x288 with 1 Axes>"
            ]
          },
          "metadata": {
            "needs_background": "light"
          }
        }
      ]
    },
    {
      "cell_type": "markdown",
      "metadata": {
        "id": "22X_ZHMtwXOh"
      },
      "source": [
        "<div class=\"exercise\"><b>Exercise</b></div>\n",
        "\n",
        "* Use `sklearn` to fit the training data using simple linear regression.\n",
        "* Use the model to make mpg predictions on the test set.  \n",
        "* Plot the data and the prediction.  \n",
        "* Print out the mean squared error for the training set and the test set and compare.\n",
        "\n",
        "**Hints:**\n",
        "* Use the following to perform the analysis:\n",
        "```python\n",
        "from sklearn.linear_model import LinearRegression\n",
        "from sklearn.model_selection import train_test_split\n",
        "from sklearn.metrics import mean_squared_error\n",
        "```"
      ]
    },
    {
      "cell_type": "code",
      "metadata": {
        "id": "p77FXxPFwXOh"
      },
      "source": [
        "from sklearn.linear_model import LinearRegression\n",
        "from sklearn.model_selection import train_test_split\n",
        "from sklearn.metrics import mean_squared_error\n",
        "\n",
        "dfcars = pd.read_csv(\"mtcars.csv\")\n",
        "dfcars = dfcars.rename(columns={\"Unnamed: 0\":\"name\"})\n",
        "\n",
        "dfcars.head()"
      ],
      "execution_count": null,
      "outputs": []
    },
    {
      "cell_type": "code",
      "metadata": {
        "id": "NIRjiV87wXOi"
      },
      "source": [
        "# TODO: split traindf, testdf\n",
        "\n",
        "# TODO: compute y_train and x_train"
      ],
      "execution_count": null,
      "outputs": []
    },
    {
      "cell_type": "code",
      "metadata": {
        "id": "ifY_aR6kwXOi"
      },
      "source": [
        "# TODO: compute y_test and x_test\n",
        "\n",
        "# TODO: create linear model\n",
        "\n",
        "# TODO: fit linear model\n",
        "\n",
        "# TODO: compute predicted_y\n",
        "\n",
        "# TODO: compute and r2 score on test data"
      ],
      "execution_count": null,
      "outputs": []
    },
    {
      "cell_type": "code",
      "metadata": {
        "id": "HCJd11uSwXOi"
      },
      "source": [
        "# TODO r2 score on train data, mse on test data, mse on train data and final coefficients"
      ],
      "execution_count": null,
      "outputs": []
    },
    {
      "cell_type": "code",
      "metadata": {
        "id": "9i4zyF44wXOj"
      },
      "source": [
        "# TODO: plots"
      ],
      "execution_count": null,
      "outputs": []
    },
    {
      "cell_type": "markdown",
      "metadata": {
        "id": "EHJsvxC2wXOj"
      },
      "source": [
        "## (Bonus) $k$-nearest neighbors"
      ]
    },
    {
      "cell_type": "markdown",
      "metadata": {
        "id": "1ut3EIN3wXOj"
      },
      "source": [
        "Great, so we did a simple linear regression on the car data.\n",
        "\n",
        "Now that you're familiar with `sklearn`, you're ready to do a KNN regression.  Let's use $5$ nearest neighbors."
      ]
    },
    {
      "cell_type": "code",
      "metadata": {
        "id": "Istzkyt_wXOj"
      },
      "source": [
        "from sklearn.neighbors import KNeighborsRegressor\n",
        "knnreg = KNeighborsRegressor(n_neighbors=5)"
      ],
      "execution_count": null,
      "outputs": []
    },
    {
      "cell_type": "code",
      "metadata": {
        "id": "LD7cp7H4wXOj"
      },
      "source": [
        "knnreg.fit(X_train, y_train)\n",
        "r2 = knnreg.score(X_test, y_test)\n",
        "r2"
      ],
      "execution_count": null,
      "outputs": []
    },
    {
      "cell_type": "markdown",
      "metadata": {
        "id": "FF9vngcEwXOj"
      },
      "source": [
        "<div class=\"exercise\"><b>Exercise</b></div>\n",
        "What is the $R^{2}$ score on the training set?"
      ]
    },
    {
      "cell_type": "code",
      "metadata": {
        "id": "5HvVes2VwXOk"
      },
      "source": [
        "# TODO: Your code here"
      ],
      "execution_count": null,
      "outputs": []
    },
    {
      "cell_type": "markdown",
      "metadata": {
        "id": "31x_Vi_TwXOk"
      },
      "source": [
        "Lets vary the number of neighbors and see what we get."
      ]
    },
    {
      "cell_type": "code",
      "metadata": {
        "id": "kTJ45nNswXOk"
      },
      "source": [
        "regdict = {}\n",
        "# Do a bunch of KNN regressions\n",
        "for k in [1, 2, 4, 6, 8, 10, 15]:\n",
        "    knnreg = KNeighborsRegressor(n_neighbors=k)\n",
        "    knnreg.fit(X_train, y_train)\n",
        "    regdict[k] = knnreg # Store the regressors in a dictionary"
      ],
      "execution_count": null,
      "outputs": []
    },
    {
      "cell_type": "code",
      "metadata": {
        "id": "M0fP4fJQwXOk"
      },
      "source": [
        "# Now let's plot it all\n",
        "fig, ax = plt.subplots(1,1, figsize=(10,6))\n",
        "\n",
        "ax.plot(dfcars.wt, dfcars.mpg, 'o', label=\"data\")\n",
        "\n",
        "xgrid = np.linspace(np.min(dfcars.wt), np.max(dfcars.wt), 100)\n",
        "for k in [1, 2, 6, 10, 15]:\n",
        "    predictions = regdict[k].predict(xgrid.reshape(100,1))\n",
        "    if k in [1, 6, 15]:\n",
        "        ax.plot(xgrid, predictions, label=\"{}-NN\".format(k))\n",
        "\n",
        "ax.legend();"
      ],
      "execution_count": null,
      "outputs": []
    },
    {
      "cell_type": "markdown",
      "metadata": {
        "id": "hNX9xZwewXOk"
      },
      "source": [
        "Notice how the $1$-NN goes through every point on the training set but utterly fails elsewhere. Lets look at the scores on the training set."
      ]
    },
    {
      "cell_type": "code",
      "metadata": {
        "id": "vfRQT9NTwXOk"
      },
      "source": [
        "ks = range(1, 15) # Grid of k's\n",
        "scores_train = [] # R2 scores\n",
        "for k in ks:\n",
        "    knnreg = KNeighborsRegressor(n_neighbors=k) # Create KNN model\n",
        "    knnreg.fit(X_train, y_train) # Fit the model to training data\n",
        "    score_train = knnreg.score(X_train, y_train) # Calculate R^2 score\n",
        "    scores_train.append(score_train)\n",
        "\n",
        "# Plot\n",
        "fig, ax = plt.subplots(1,1, figsize=(12,8))\n",
        "ax.plot(ks, scores_train,'o-')\n",
        "ax.set_xlabel(r'$k$')\n",
        "ax.set_ylabel(r'$R^{2}$')"
      ],
      "execution_count": null,
      "outputs": []
    },
    {
      "cell_type": "markdown",
      "metadata": {
        "id": "09l37_iawXOl"
      },
      "source": [
        "Why do we get a perfect $R^2$ at k=1?"
      ]
    },
    {
      "cell_type": "markdown",
      "metadata": {
        "id": "WRG0jAcZwXOl"
      },
      "source": [
        "<div class=\"exercise\"><b>Exercise (5 min)</b></div>\n",
        "* Make the same plot as above on the *test* set.\n",
        "* What is the best $k$?"
      ]
    },
    {
      "cell_type": "code",
      "metadata": {
        "id": "xdyY-Tp_wXOl"
      },
      "source": [
        "# TODO: Your code here"
      ],
      "execution_count": null,
      "outputs": []
    }
  ]
}